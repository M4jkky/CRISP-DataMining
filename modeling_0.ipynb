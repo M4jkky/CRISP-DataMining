{
 "cells": [
  {
   "metadata": {},
   "cell_type": "markdown",
   "source": "# Modelovanie č. 0 - klasifikačné metódy - bez predspracovaných dát",
   "id": "c0b93915fa18fa53"
  },
  {
   "cell_type": "code",
   "id": "initial_id",
   "metadata": {
    "collapsed": true,
    "ExecuteTime": {
     "end_time": "2024-11-21T11:09:25.877258Z",
     "start_time": "2024-11-21T11:09:25.559759Z"
    }
   },
   "source": [
    "import pandas as pd\n",
    "import numpy as np\n",
    "\n",
    "from sklearn.model_selection import train_test_split\n",
    "from sklearn.metrics import classification_report, confusion_matrix\n",
    "from sklearn.preprocessing import StandardScaler\n",
    "\n",
    "from sklearn.linear_model import LogisticRegression\n",
    "from sklearn.ensemble import RandomForestClassifier, GradientBoostingClassifier\n",
    "from sklearn.ensemble import AdaBoostClassifier, BaggingClassifier, ExtraTreesClassifier\n",
    "from sklearn.neighbors import KNeighborsClassifier\n",
    "from sklearn.tree import DecisionTreeClassifier\n",
    "from sklearn.naive_bayes import GaussianNB\n",
    "from sklearn.svm import SVC\n",
    "from xgboost import XGBClassifier"
   ],
   "outputs": [],
   "execution_count": 1
  },
  {
   "metadata": {},
   "cell_type": "markdown",
   "source": "## Načítanie dát",
   "id": "68fe1db855c2713d"
  },
  {
   "metadata": {
    "ExecuteTime": {
     "end_time": "2024-11-21T11:09:25.966573Z",
     "start_time": "2024-11-21T11:09:25.882349Z"
    }
   },
   "cell_type": "code",
   "source": [
    "train_df = pd.read_csv('data/Train_data.csv')\n",
    "test_df = pd.read_csv('data/Test_data.csv')"
   ],
   "id": "81a1351a2a572bd1",
   "outputs": [],
   "execution_count": 2
  },
  {
   "metadata": {
    "ExecuteTime": {
     "end_time": "2024-11-21T11:09:26.077198Z",
     "start_time": "2024-11-21T11:09:26.072670Z"
    }
   },
   "cell_type": "code",
   "source": "train_df['class'] = train_df['class'].map({'normal': 0, 'anomaly': 1})",
   "id": "bd9478d1aa16bbb8",
   "outputs": [],
   "execution_count": 3
  },
  {
   "metadata": {},
   "cell_type": "markdown",
   "source": "## One Hot Encoding",
   "id": "b069a8acf23e18b"
  },
  {
   "metadata": {
    "ExecuteTime": {
     "end_time": "2024-11-21T11:09:26.097148Z",
     "start_time": "2024-11-21T11:09:26.086232Z"
    }
   },
   "cell_type": "code",
   "source": "train_df = pd.get_dummies(train_df, drop_first=True)",
   "id": "b9d124421b84234f",
   "outputs": [],
   "execution_count": 4
  },
  {
   "metadata": {},
   "cell_type": "markdown",
   "source": "## Rozdelenie dát na trénovacie a validačné",
   "id": "92c6bf36c493e134"
  },
  {
   "metadata": {
    "ExecuteTime": {
     "end_time": "2024-11-21T11:09:26.132302Z",
     "start_time": "2024-11-21T11:09:26.121684Z"
    }
   },
   "cell_type": "code",
   "source": "X_train, X_val, y_train, y_val = train_test_split(train_df.drop(columns=['class']), train_df['class'], test_size=0.3, random_state=123)",
   "id": "4f435603b6bae7af",
   "outputs": [],
   "execution_count": 5
  },
  {
   "metadata": {},
   "cell_type": "markdown",
   "source": "## Normalizácia trénovacích dát pomocou StandardScaler",
   "id": "ef36091d855d961d"
  },
  {
   "metadata": {
    "ExecuteTime": {
     "end_time": "2024-11-21T11:09:26.154229Z",
     "start_time": "2024-11-21T11:09:26.136692Z"
    }
   },
   "cell_type": "code",
   "source": [
    "quantitative = X_train.select_dtypes(include=[np.number]).columns\n",
    "\n",
    "scaler = StandardScaler().fit(X_train[quantitative])\n",
    "\n",
    "X_train[quantitative] = scaler.transform(X_train[quantitative])\n",
    "X_val[quantitative] = scaler.transform(X_val[quantitative])"
   ],
   "id": "ce7eb803ed5629ca",
   "outputs": [],
   "execution_count": 6
  },
  {
   "metadata": {
    "ExecuteTime": {
     "end_time": "2024-11-21T11:09:26.178564Z",
     "start_time": "2024-11-21T11:09:26.175478Z"
    }
   },
   "cell_type": "code",
   "source": [
    "models = (\n",
    "    ('Logistic Regression', LogisticRegression(max_iter=4000)),\n",
    "    ('Random Forest', RandomForestClassifier()),\n",
    "    ('Gradient Boosting Classifier', GradientBoostingClassifier()),\n",
    "    ('AdaBoost Classifier', AdaBoostClassifier(algorithm='SAMME')),\n",
    "    ('Bagging Classifier', BaggingClassifier()),\n",
    "    ('Extra Trees Classifier', ExtraTreesClassifier()),\n",
    "    ('K-Nearest Neighbors', KNeighborsClassifier()),\n",
    "    ('Decision Tree Classifier', DecisionTreeClassifier()),\n",
    "    ('Naive Bayes', GaussianNB()),\n",
    "    ('Support Vector Machine', SVC()),\n",
    "    ('XGBoost Classifier', XGBClassifier())\n",
    ")"
   ],
   "id": "97a5c8884319dce3",
   "outputs": [],
   "execution_count": 7
  },
  {
   "metadata": {},
   "cell_type": "markdown",
   "source": "## Modelovanie",
   "id": "21e90090677670e1"
  },
  {
   "metadata": {
    "ExecuteTime": {
     "end_time": "2024-11-21T11:09:35.038536Z",
     "start_time": "2024-11-21T11:09:26.236543Z"
    }
   },
   "cell_type": "code",
   "source": [
    "# Gradient Boosting Classifier\n",
    "gbc = GradientBoostingClassifier()\n",
    "gbc.fit(X_train, y_train)\n",
    "gbc_pred = gbc.predict(X_val)\n",
    "print(\"-- Gradient Boosting Classifier --\")\n",
    "print(classification_report(y_val, gbc_pred))\n",
    "print(15*'-')\n",
    "print(confusion_matrix(y_val, gbc_pred))\n",
    "print(54*'-')\n",
    "\n",
    "# K-Nearest Neighbors (KNN)\n",
    "knn = KNeighborsClassifier()\n",
    "knn.fit(X_train, y_train)\n",
    "knn_pred = knn.predict(X_val)\n",
    "print(\"-- K-Nearest Neighbors --\")\n",
    "print(classification_report(y_val, knn_pred))\n",
    "print(15*'-')\n",
    "print(confusion_matrix(y_val, knn_pred))\n",
    "print(54*'-')\n",
    "\n",
    "# Decision Tree Classifier\n",
    "dt = DecisionTreeClassifier()\n",
    "dt.fit(X_train, y_train)\n",
    "dt_pred = dt.predict(X_val)\n",
    "print(\"-- Decision Tree Classifier --\")\n",
    "print(classification_report(y_val, dt_pred))\n",
    "print(15*'-')\n",
    "print(confusion_matrix(y_val, dt_pred))\n",
    "print(54*'-')\n",
    "\n",
    "# Naive Bayes (GaussianNB)\n",
    "gnb = GaussianNB()\n",
    "gnb.fit(X_train, y_train)\n",
    "gnb_pred = gnb.predict(X_val)\n",
    "print(\"-- Naive Bayes --\")\n",
    "print(classification_report(y_val, gnb_pred))\n",
    "print(15*'-')\n",
    "print(confusion_matrix(y_val, gnb_pred))\n",
    "print(54*'-')\n",
    "\n",
    "# Support Vector Machine (SVM)\n",
    "svm = SVC()\n",
    "svm.fit(X_train, y_train)\n",
    "svm_pred = svm.predict(X_val)\n",
    "print(\"-- Support Vector Machine --\")\n",
    "print(classification_report(y_val, svm_pred))\n",
    "print(15*'-')\n",
    "print(confusion_matrix(y_val, svm_pred))\n",
    "print(54*'-')\n",
    "\n",
    "# AdaBoost Classifier\n",
    "ada = AdaBoostClassifier(algorithm='SAMME')\n",
    "ada.fit(X_train, y_train)\n",
    "ada_pred = ada.predict(X_val)\n",
    "print(\"-- AdaBoost Classifier --\")\n",
    "print(classification_report(y_val, ada_pred))\n",
    "print(15*'-')\n",
    "print(confusion_matrix(y_val, ada_pred))\n",
    "print(54*'-')\n",
    "\n",
    "# Bagging Classifier\n",
    "bagging = BaggingClassifier()\n",
    "bagging.fit(X_train, y_train)\n",
    "bagging_pred = bagging.predict(X_val)\n",
    "print(\"-- Bagging Classifier --\")\n",
    "print(classification_report(y_val, bagging_pred))\n",
    "print(15*'-')\n",
    "print(confusion_matrix(y_val, bagging_pred))\n",
    "print(54*'-')\n",
    "\n",
    "# Extra Trees Classifier\n",
    "extra_trees = ExtraTreesClassifier()\n",
    "extra_trees.fit(X_train, y_train)\n",
    "extra_trees_pred = extra_trees.predict(X_val)\n",
    "print(\"-- Extra Trees Classifier --\")\n",
    "print(classification_report(y_val, extra_trees_pred))\n",
    "print(15*'-')\n",
    "print(confusion_matrix(y_val, extra_trees_pred))\n",
    "print(54*'-')\n",
    "\n",
    "# XGBoost Classifier\n",
    "xgb = XGBClassifier()\n",
    "xgb.fit(X_train, y_train)\n",
    "xgb_pred = xgb.predict(X_val)\n",
    "print(\"-- XGBoost Classifier --\")\n",
    "print(classification_report(y_val, xgb_pred))\n",
    "print(15*'-')\n",
    "print(confusion_matrix(y_val, xgb_pred))\n",
    "print(54*'-')\n",
    "\n",
    "# Random Forest Classifier\n",
    "rf = RandomForestClassifier()\n",
    "rf.fit(X_train, y_train)\n",
    "rf_pred = rf.predict(X_val)\n",
    "print(\"-- Random Forest Classifier --\")\n",
    "print(classification_report(y_val, rf_pred))\n",
    "print(15*'-')\n",
    "print(confusion_matrix(y_val, rf_pred))\n",
    "print(54*'-')\n",
    "\n",
    "# Logistic Regression\n",
    "lr = LogisticRegression(max_iter=4000)\n",
    "lr.fit(X_train, y_train)\n",
    "lr_pred = lr.predict(X_val)\n",
    "print(\"-- Logistic Regression --\")\n",
    "print(classification_report(y_val, lr_pred))\n",
    "print(15*'-')\n",
    "print(confusion_matrix(y_val, lr_pred))\n",
    "print(54*'-')"
   ],
   "id": "19a732f582f2cd83",
   "outputs": [
    {
     "name": "stdout",
     "output_type": "stream",
     "text": [
      "-- Gradient Boosting Classifier --\n",
      "              precision    recall  f1-score   support\n",
      "\n",
      "           0       0.99      1.00      1.00      4022\n",
      "           1       1.00      0.99      1.00      3536\n",
      "\n",
      "    accuracy                           1.00      7558\n",
      "   macro avg       1.00      1.00      1.00      7558\n",
      "weighted avg       1.00      1.00      1.00      7558\n",
      "\n",
      "---------------\n",
      "[[4009   13]\n",
      " [  21 3515]]\n",
      "------------------------------------------------------\n",
      "-- K-Nearest Neighbors --\n",
      "              precision    recall  f1-score   support\n",
      "\n",
      "           0       0.99      0.99      0.99      4022\n",
      "           1       0.99      0.99      0.99      3536\n",
      "\n",
      "    accuracy                           0.99      7558\n",
      "   macro avg       0.99      0.99      0.99      7558\n",
      "weighted avg       0.99      0.99      0.99      7558\n",
      "\n",
      "---------------\n",
      "[[4000   22]\n",
      " [  35 3501]]\n",
      "------------------------------------------------------\n",
      "-- Decision Tree Classifier --\n",
      "              precision    recall  f1-score   support\n",
      "\n",
      "           0       1.00      1.00      1.00      4022\n",
      "           1       1.00      1.00      1.00      3536\n",
      "\n",
      "    accuracy                           1.00      7558\n",
      "   macro avg       1.00      1.00      1.00      7558\n",
      "weighted avg       1.00      1.00      1.00      7558\n",
      "\n",
      "---------------\n",
      "[[4012   10]\n",
      " [  14 3522]]\n",
      "------------------------------------------------------\n",
      "-- Naive Bayes --\n",
      "              precision    recall  f1-score   support\n",
      "\n",
      "           0       0.78      1.00      0.88      4022\n",
      "           1       1.00      0.69      0.81      3536\n",
      "\n",
      "    accuracy                           0.85      7558\n",
      "   macro avg       0.89      0.84      0.85      7558\n",
      "weighted avg       0.88      0.85      0.85      7558\n",
      "\n",
      "---------------\n",
      "[[4017    5]\n",
      " [1106 2430]]\n",
      "------------------------------------------------------\n",
      "-- Support Vector Machine --\n",
      "              precision    recall  f1-score   support\n",
      "\n",
      "           0       0.99      0.99      0.99      4022\n",
      "           1       0.99      0.99      0.99      3536\n",
      "\n",
      "    accuracy                           0.99      7558\n",
      "   macro avg       0.99      0.99      0.99      7558\n",
      "weighted avg       0.99      0.99      0.99      7558\n",
      "\n",
      "---------------\n",
      "[[3996   26]\n",
      " [  41 3495]]\n",
      "------------------------------------------------------\n",
      "-- AdaBoost Classifier --\n",
      "              precision    recall  f1-score   support\n",
      "\n",
      "           0       0.97      0.98      0.98      4022\n",
      "           1       0.98      0.96      0.97      3536\n",
      "\n",
      "    accuracy                           0.97      7558\n",
      "   macro avg       0.98      0.97      0.97      7558\n",
      "weighted avg       0.98      0.97      0.97      7558\n",
      "\n",
      "---------------\n",
      "[[3958   64]\n",
      " [ 125 3411]]\n",
      "------------------------------------------------------\n",
      "-- Bagging Classifier --\n",
      "              precision    recall  f1-score   support\n",
      "\n",
      "           0       1.00      1.00      1.00      4022\n",
      "           1       1.00      1.00      1.00      3536\n",
      "\n",
      "    accuracy                           1.00      7558\n",
      "   macro avg       1.00      1.00      1.00      7558\n",
      "weighted avg       1.00      1.00      1.00      7558\n",
      "\n",
      "---------------\n",
      "[[4015    7]\n",
      " [  15 3521]]\n",
      "------------------------------------------------------\n",
      "-- Extra Trees Classifier --\n",
      "              precision    recall  f1-score   support\n",
      "\n",
      "           0       1.00      1.00      1.00      4022\n",
      "           1       1.00      0.99      1.00      3536\n",
      "\n",
      "    accuracy                           1.00      7558\n",
      "   macro avg       1.00      1.00      1.00      7558\n",
      "weighted avg       1.00      1.00      1.00      7558\n",
      "\n",
      "---------------\n",
      "[[4017    5]\n",
      " [  18 3518]]\n",
      "------------------------------------------------------\n",
      "-- XGBoost Classifier --\n",
      "              precision    recall  f1-score   support\n",
      "\n",
      "           0       1.00      1.00      1.00      4022\n",
      "           1       1.00      1.00      1.00      3536\n",
      "\n",
      "    accuracy                           1.00      7558\n",
      "   macro avg       1.00      1.00      1.00      7558\n",
      "weighted avg       1.00      1.00      1.00      7558\n",
      "\n",
      "---------------\n",
      "[[4016    6]\n",
      " [  10 3526]]\n",
      "------------------------------------------------------\n",
      "-- Random Forest Classifier --\n",
      "              precision    recall  f1-score   support\n",
      "\n",
      "           0       1.00      1.00      1.00      4022\n",
      "           1       1.00      0.99      1.00      3536\n",
      "\n",
      "    accuracy                           1.00      7558\n",
      "   macro avg       1.00      1.00      1.00      7558\n",
      "weighted avg       1.00      1.00      1.00      7558\n",
      "\n",
      "---------------\n",
      "[[4018    4]\n",
      " [  19 3517]]\n",
      "------------------------------------------------------\n",
      "-- Logistic Regression --\n",
      "              precision    recall  f1-score   support\n",
      "\n",
      "           0       0.96      0.98      0.97      4022\n",
      "           1       0.98      0.95      0.97      3536\n",
      "\n",
      "    accuracy                           0.97      7558\n",
      "   macro avg       0.97      0.97      0.97      7558\n",
      "weighted avg       0.97      0.97      0.97      7558\n",
      "\n",
      "---------------\n",
      "[[3953   69]\n",
      " [ 172 3364]]\n",
      "------------------------------------------------------\n"
     ]
    }
   ],
   "execution_count": 8
  },
  {
   "metadata": {
    "ExecuteTime": {
     "end_time": "2024-11-21T11:10:41.634244Z",
     "start_time": "2024-11-21T11:09:35.053475Z"
    }
   },
   "cell_type": "code",
   "source": [
    "from sklearn.model_selection import cross_val_score\n",
    "\n",
    "for name, model in models:\n",
    "    scores = cross_val_score(model, X_train, y_train, cv=10, scoring='accuracy')\n",
    "    print(f\"{name} Cross Validation Accuracy: {scores.mean():.4f} (+/- {scores.std() * 2:.4f})\")"
   ],
   "id": "6539002950011bcb",
   "outputs": [
    {
     "name": "stdout",
     "output_type": "stream",
     "text": [
      "Logistic Regression Cross Validation Accuracy: 0.9723 (+/- 0.0108)\n",
      "Random Forest Cross Validation Accuracy: 0.9970 (+/- 0.0033)\n",
      "Gradient Boosting Classifier Cross Validation Accuracy: 0.9951 (+/- 0.0034)\n",
      "AdaBoost Classifier Cross Validation Accuracy: 0.9761 (+/- 0.0066)\n",
      "Bagging Classifier Cross Validation Accuracy: 0.9967 (+/- 0.0038)\n",
      "Extra Trees Classifier Cross Validation Accuracy: 0.9970 (+/- 0.0031)\n",
      "K-Nearest Neighbors Cross Validation Accuracy: 0.9917 (+/- 0.0051)\n",
      "Decision Tree Classifier Cross Validation Accuracy: 0.9957 (+/- 0.0030)\n",
      "Naive Bayes Cross Validation Accuracy: 0.8603 (+/- 0.0086)\n",
      "Support Vector Machine Cross Validation Accuracy: 0.9904 (+/- 0.0048)\n",
      "XGBoost Classifier Cross Validation Accuracy: 0.9973 (+/- 0.0030)\n"
     ]
    }
   ],
   "execution_count": 9
  },
  {
   "metadata": {},
   "cell_type": "markdown",
   "source": "",
   "id": "56e0a65b01240dfe"
  }
 ],
 "metadata": {
  "kernelspec": {
   "display_name": "Python 3",
   "language": "python",
   "name": "python3"
  },
  "language_info": {
   "codemirror_mode": {
    "name": "ipython",
    "version": 2
   },
   "file_extension": ".py",
   "mimetype": "text/x-python",
   "name": "python",
   "nbconvert_exporter": "python",
   "pygments_lexer": "ipython2",
   "version": "2.7.6"
  }
 },
 "nbformat": 4,
 "nbformat_minor": 5
}
