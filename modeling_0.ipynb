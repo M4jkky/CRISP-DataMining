{
 "cells": [
  {
   "metadata": {},
   "cell_type": "markdown",
   "source": "# Modelovanie č. 0 - klasifikačné metódy - bez predspracovaných dát",
   "id": "c0b93915fa18fa53"
  },
  {
   "cell_type": "code",
   "id": "initial_id",
   "metadata": {
    "collapsed": true,
    "ExecuteTime": {
     "end_time": "2024-11-17T18:58:27.399870Z",
     "start_time": "2024-11-17T18:58:27.369958Z"
    }
   },
   "source": [
    "import pandas as pd\n",
    "import numpy as np\n",
    "\n",
    "from sklearn.model_selection import train_test_split\n",
    "from sklearn.metrics import classification_report, confusion_matrix\n",
    "from sklearn.preprocessing import StandardScaler\n",
    "\n",
    "from sklearn.linear_model import LogisticRegression\n",
    "from sklearn.ensemble import RandomForestClassifier, GradientBoostingClassifier\n",
    "from sklearn.ensemble import AdaBoostClassifier, BaggingClassifier, ExtraTreesClassifier\n",
    "from sklearn.neighbors import KNeighborsClassifier\n",
    "from sklearn.tree import DecisionTreeClassifier\n",
    "from sklearn.naive_bayes import GaussianNB\n",
    "from sklearn.svm import SVC\n",
    "from xgboost import XGBClassifier"
   ],
   "outputs": [],
   "execution_count": 13
  },
  {
   "metadata": {},
   "cell_type": "markdown",
   "source": "## Načítanie dát",
   "id": "68fe1db855c2713d"
  },
  {
   "metadata": {
    "ExecuteTime": {
     "end_time": "2024-11-17T18:58:27.507962Z",
     "start_time": "2024-11-17T18:58:27.407533Z"
    }
   },
   "cell_type": "code",
   "source": [
    "train_df = pd.read_csv('data/Train_data.csv')\n",
    "test_df = pd.read_csv('data/Test_data.csv')"
   ],
   "id": "81a1351a2a572bd1",
   "outputs": [],
   "execution_count": 14
  },
  {
   "metadata": {
    "ExecuteTime": {
     "end_time": "2024-11-17T18:58:27.541122Z",
     "start_time": "2024-11-17T18:58:27.536252Z"
    }
   },
   "cell_type": "code",
   "source": "train_df['class'] = train_df['class'].map({'normal': 0, 'anomaly': 1})",
   "id": "bd9478d1aa16bbb8",
   "outputs": [],
   "execution_count": 15
  },
  {
   "metadata": {},
   "cell_type": "markdown",
   "source": "## One Hot Encoding",
   "id": "b069a8acf23e18b"
  },
  {
   "metadata": {
    "ExecuteTime": {
     "end_time": "2024-11-17T18:58:27.571429Z",
     "start_time": "2024-11-17T18:58:27.557579Z"
    }
   },
   "cell_type": "code",
   "source": "train_df = pd.get_dummies(train_df, drop_first=True)",
   "id": "b9d124421b84234f",
   "outputs": [],
   "execution_count": 16
  },
  {
   "metadata": {},
   "cell_type": "markdown",
   "source": "## Rozdelenie dát na trénovacie a validačné",
   "id": "92c6bf36c493e134"
  },
  {
   "metadata": {
    "ExecuteTime": {
     "end_time": "2024-11-17T18:58:27.607535Z",
     "start_time": "2024-11-17T18:58:27.594112Z"
    }
   },
   "cell_type": "code",
   "source": "X_train, X_val, y_train, y_val = train_test_split(train_df.drop(columns=['class']), train_df['class'], test_size=0.25, random_state=123)",
   "id": "4f435603b6bae7af",
   "outputs": [],
   "execution_count": 17
  },
  {
   "metadata": {},
   "cell_type": "markdown",
   "source": "## Normalizácia trénovacích dát pomocou StandardScaler",
   "id": "ef36091d855d961d"
  },
  {
   "metadata": {
    "ExecuteTime": {
     "end_time": "2024-11-17T18:58:27.659745Z",
     "start_time": "2024-11-17T18:58:27.624845Z"
    }
   },
   "cell_type": "code",
   "source": [
    "quantitative = X_train.select_dtypes(include=[np.number]).columns\n",
    "\n",
    "scaler = StandardScaler().fit(X_train[quantitative])\n",
    "\n",
    "X_train[quantitative] = scaler.transform(X_train[quantitative])\n",
    "X_val[quantitative] = scaler.transform(X_val[quantitative])"
   ],
   "id": "ce7eb803ed5629ca",
   "outputs": [],
   "execution_count": 18
  },
  {
   "metadata": {},
   "cell_type": "markdown",
   "source": "## Modelovanie",
   "id": "21e90090677670e1"
  },
  {
   "metadata": {
    "ExecuteTime": {
     "end_time": "2024-11-17T18:58:36.055521Z",
     "start_time": "2024-11-17T18:58:27.685568Z"
    }
   },
   "cell_type": "code",
   "source": [
    "# Gradient Boosting Classifier\n",
    "gbc = GradientBoostingClassifier()\n",
    "gbc.fit(X_train, y_train)\n",
    "gbc_pred = gbc.predict(X_val)\n",
    "print(\"-- Gradient Boosting Classifier --\")\n",
    "print(classification_report(y_val, gbc_pred))\n",
    "print(confusion_matrix(y_val, gbc_pred))\n",
    "\n",
    "# K-Nearest Neighbors (KNN)\n",
    "knn = KNeighborsClassifier()\n",
    "knn.fit(X_train, y_train)\n",
    "knn_pred = knn.predict(X_val)\n",
    "print(\"-- K-Nearest Neighbors --\")\n",
    "print(classification_report(y_val, knn_pred))\n",
    "print(confusion_matrix(y_val, knn_pred))\n",
    "\n",
    "# Decision Tree Classifier\n",
    "dt = DecisionTreeClassifier()\n",
    "dt.fit(X_train, y_train)\n",
    "dt_pred = dt.predict(X_val)\n",
    "print(\"-- Decision Tree Classifier --\")\n",
    "print(classification_report(y_val, dt_pred))\n",
    "print(confusion_matrix(y_val, dt_pred))\n",
    "\n",
    "# Naive Bayes (GaussianNB)\n",
    "gnb = GaussianNB()\n",
    "gnb.fit(X_train, y_train)\n",
    "gnb_pred = gnb.predict(X_val)\n",
    "print(\"-- Naive Bayes --\")\n",
    "print(classification_report(y_val, gnb_pred))\n",
    "print(confusion_matrix(y_val, gnb_pred))\n",
    "\n",
    "# Support Vector Machine (SVM)\n",
    "svm = SVC()\n",
    "svm.fit(X_train, y_train)\n",
    "svm_pred = svm.predict(X_val)\n",
    "print(\"-- Support Vector Machine --\")\n",
    "print(classification_report(y_val, svm_pred))\n",
    "print(confusion_matrix(y_val, svm_pred))\n",
    "\n",
    "# AdaBoost Classifier\n",
    "ada = AdaBoostClassifier(algorithm='SAMME')\n",
    "ada.fit(X_train, y_train)\n",
    "ada_pred = ada.predict(X_val)\n",
    "print(\"-- AdaBoost Classifier --\")\n",
    "print(classification_report(y_val, ada_pred))\n",
    "print(confusion_matrix(y_val, ada_pred))\n",
    "\n",
    "# Bagging Classifier\n",
    "bagging = BaggingClassifier()\n",
    "bagging.fit(X_train, y_train)\n",
    "bagging_pred = bagging.predict(X_val)\n",
    "print(\"-- Bagging Classifier --\")\n",
    "print(classification_report(y_val, bagging_pred))\n",
    "print(confusion_matrix(y_val, bagging_pred))\n",
    "\n",
    "# Extra Trees Classifier\n",
    "extra_trees = ExtraTreesClassifier()\n",
    "extra_trees.fit(X_train, y_train)\n",
    "extra_trees_pred = extra_trees.predict(X_val)\n",
    "print(\"-- Extra Trees Classifier --\")\n",
    "print(classification_report(y_val, extra_trees_pred))\n",
    "print(confusion_matrix(y_val, extra_trees_pred))\n",
    "\n",
    "# XGBoost Classifier\n",
    "xgb = XGBClassifier()\n",
    "xgb.fit(X_train, y_train)\n",
    "xgb_pred = xgb.predict(X_val)\n",
    "print(\"-- XGBoost Classifier --\")\n",
    "print(classification_report(y_val, xgb_pred))\n",
    "print(confusion_matrix(y_val, xgb_pred))\n",
    "\n",
    "# Random Forest Classifier\n",
    "rf = RandomForestClassifier()\n",
    "rf.fit(X_train, y_train)\n",
    "rf_pred = rf.predict(X_val)\n",
    "print(\"-- Random Forest Classifier --\")\n",
    "print(classification_report(y_val, rf_pred))\n",
    "print(confusion_matrix(y_val, rf_pred))\n",
    "\n",
    "# Logistic Regression\n",
    "lr = LogisticRegression(max_iter=4000)\n",
    "lr.fit(X_train, y_train)\n",
    "lr_pred = lr.predict(X_val)\n",
    "print(\"-- Logistic Regression --\")\n",
    "print(classification_report(y_val, lr_pred))\n",
    "print(confusion_matrix(y_val, lr_pred))"
   ],
   "id": "19a732f582f2cd83",
   "outputs": [
    {
     "name": "stdout",
     "output_type": "stream",
     "text": [
      "-- Gradient Boosting Classifier --\n",
      "              precision    recall  f1-score   support\n",
      "\n",
      "           0       0.99      1.00      1.00      3353\n",
      "           1       1.00      0.99      0.99      2945\n",
      "\n",
      "    accuracy                           1.00      6298\n",
      "   macro avg       1.00      1.00      1.00      6298\n",
      "weighted avg       1.00      1.00      1.00      6298\n",
      "\n",
      "[[3341   12]\n",
      " [  18 2927]]\n",
      "-- K-Nearest Neighbors --\n",
      "              precision    recall  f1-score   support\n",
      "\n",
      "           0       0.99      0.99      0.99      3353\n",
      "           1       0.99      0.99      0.99      2945\n",
      "\n",
      "    accuracy                           0.99      6298\n",
      "   macro avg       0.99      0.99      0.99      6298\n",
      "weighted avg       0.99      0.99      0.99      6298\n",
      "\n",
      "[[3331   22]\n",
      " [  29 2916]]\n",
      "-- Decision Tree Classifier --\n",
      "              precision    recall  f1-score   support\n",
      "\n",
      "           0       1.00      1.00      1.00      3353\n",
      "           1       1.00      1.00      1.00      2945\n",
      "\n",
      "    accuracy                           1.00      6298\n",
      "   macro avg       1.00      1.00      1.00      6298\n",
      "weighted avg       1.00      1.00      1.00      6298\n",
      "\n",
      "[[3347    6]\n",
      " [  11 2934]]\n",
      "-- Naive Bayes --\n",
      "              precision    recall  f1-score   support\n",
      "\n",
      "           0       0.79      1.00      0.88      3353\n",
      "           1       1.00      0.69      0.82      2945\n",
      "\n",
      "    accuracy                           0.86      6298\n",
      "   macro avg       0.89      0.85      0.85      6298\n",
      "weighted avg       0.89      0.86      0.85      6298\n",
      "\n",
      "[[3349    4]\n",
      " [ 902 2043]]\n",
      "-- Support Vector Machine --\n",
      "              precision    recall  f1-score   support\n",
      "\n",
      "           0       0.99      0.99      0.99      3353\n",
      "           1       0.99      0.99      0.99      2945\n",
      "\n",
      "    accuracy                           0.99      6298\n",
      "   macro avg       0.99      0.99      0.99      6298\n",
      "weighted avg       0.99      0.99      0.99      6298\n",
      "\n",
      "[[3330   23]\n",
      " [  31 2914]]\n",
      "-- AdaBoost Classifier --\n",
      "              precision    recall  f1-score   support\n",
      "\n",
      "           0       0.97      0.98      0.98      3353\n",
      "           1       0.98      0.97      0.97      2945\n",
      "\n",
      "    accuracy                           0.98      6298\n",
      "   macro avg       0.98      0.97      0.98      6298\n",
      "weighted avg       0.98      0.98      0.98      6298\n",
      "\n",
      "[[3300   53]\n",
      " [ 103 2842]]\n",
      "-- Bagging Classifier --\n",
      "              precision    recall  f1-score   support\n",
      "\n",
      "           0       1.00      1.00      1.00      3353\n",
      "           1       1.00      1.00      1.00      2945\n",
      "\n",
      "    accuracy                           1.00      6298\n",
      "   macro avg       1.00      1.00      1.00      6298\n",
      "weighted avg       1.00      1.00      1.00      6298\n",
      "\n",
      "[[3348    5]\n",
      " [  13 2932]]\n",
      "-- Extra Trees Classifier --\n",
      "              precision    recall  f1-score   support\n",
      "\n",
      "           0       0.99      1.00      1.00      3353\n",
      "           1       1.00      0.99      1.00      2945\n",
      "\n",
      "    accuracy                           1.00      6298\n",
      "   macro avg       1.00      1.00      1.00      6298\n",
      "weighted avg       1.00      1.00      1.00      6298\n",
      "\n",
      "[[3348    5]\n",
      " [  19 2926]]\n",
      "-- XGBoost Classifier --\n",
      "              precision    recall  f1-score   support\n",
      "\n",
      "           0       1.00      1.00      1.00      3353\n",
      "           1       1.00      1.00      1.00      2945\n",
      "\n",
      "    accuracy                           1.00      6298\n",
      "   macro avg       1.00      1.00      1.00      6298\n",
      "weighted avg       1.00      1.00      1.00      6298\n",
      "\n",
      "[[3348    5]\n",
      " [  10 2935]]\n",
      "-- Random Forest Classifier --\n",
      "              precision    recall  f1-score   support\n",
      "\n",
      "           0       0.99      1.00      1.00      3353\n",
      "           1       1.00      0.99      1.00      2945\n",
      "\n",
      "    accuracy                           1.00      6298\n",
      "   macro avg       1.00      1.00      1.00      6298\n",
      "weighted avg       1.00      1.00      1.00      6298\n",
      "\n",
      "[[3348    5]\n",
      " [  17 2928]]\n",
      "-- Logistic Regression --\n",
      "              precision    recall  f1-score   support\n",
      "\n",
      "           0       0.96      0.98      0.97      3353\n",
      "           1       0.98      0.95      0.96      2945\n",
      "\n",
      "    accuracy                           0.97      6298\n",
      "   macro avg       0.97      0.97      0.97      6298\n",
      "weighted avg       0.97      0.97      0.97      6298\n",
      "\n",
      "[[3291   62]\n",
      " [ 146 2799]]\n"
     ]
    }
   ],
   "execution_count": 19
  },
  {
   "metadata": {},
   "cell_type": "markdown",
   "source": "",
   "id": "56e0a65b01240dfe"
  }
 ],
 "metadata": {
  "kernelspec": {
   "display_name": "Python 3",
   "language": "python",
   "name": "python3"
  },
  "language_info": {
   "codemirror_mode": {
    "name": "ipython",
    "version": 2
   },
   "file_extension": ".py",
   "mimetype": "text/x-python",
   "name": "python",
   "nbconvert_exporter": "python",
   "pygments_lexer": "ipython2",
   "version": "2.7.6"
  }
 },
 "nbformat": 4,
 "nbformat_minor": 5
}
