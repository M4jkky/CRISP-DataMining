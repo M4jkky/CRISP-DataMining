{
 "cells": [
  {
   "metadata": {},
   "cell_type": "markdown",
   "source": "# Modelovanie č. 1 - klasifikačné metódy\n",
   "id": "9f2b4e614ed6da3b"
  },
  {
   "metadata": {},
   "cell_type": "markdown",
   "source": "## Načítanie knižníc",
   "id": "e4630e47385e0df2"
  },
  {
   "cell_type": "code",
   "id": "initial_id",
   "metadata": {
    "collapsed": true,
    "ExecuteTime": {
     "end_time": "2024-11-16T19:12:04.124368Z",
     "start_time": "2024-11-16T19:12:03.869697Z"
    }
   },
   "source": [
    "import pandas as pd\n",
    "import numpy as np\n",
    "import pickle\n",
    "\n",
    "from sklearn.model_selection import train_test_split\n",
    "from sklearn.metrics import classification_report, confusion_matrix\n",
    "from sklearn.preprocessing import StandardScaler"
   ],
   "outputs": [],
   "execution_count": 2
  },
  {
   "metadata": {},
   "cell_type": "markdown",
   "source": "## Načítanie dát",
   "id": "8e9eaf9840836bfd"
  },
  {
   "metadata": {
    "ExecuteTime": {
     "end_time": "2024-11-16T19:14:23.237573Z",
     "start_time": "2024-11-16T19:14:23.224323Z"
    }
   },
   "cell_type": "code",
   "source": [
    "with open('data/Train_data_preprocessed.pkl', 'rb') as file:\n",
    "    data = pickle.load(file)"
   ],
   "id": "d425f79bad2e49b3",
   "outputs": [],
   "execution_count": 4
  },
  {
   "metadata": {},
   "cell_type": "markdown",
   "source": "",
   "id": "671304f141ccaa2f"
  }
 ],
 "metadata": {
  "kernelspec": {
   "display_name": "Python 3",
   "language": "python",
   "name": "python3"
  },
  "language_info": {
   "codemirror_mode": {
    "name": "ipython",
    "version": 2
   },
   "file_extension": ".py",
   "mimetype": "text/x-python",
   "name": "python",
   "nbconvert_exporter": "python",
   "pygments_lexer": "ipython2",
   "version": "2.7.6"
  }
 },
 "nbformat": 4,
 "nbformat_minor": 5
}
